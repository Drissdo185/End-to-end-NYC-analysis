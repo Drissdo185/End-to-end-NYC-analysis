{
 "cells": [
  {
   "cell_type": "code",
   "execution_count": 1,
   "id": "6ff53f4e",
   "metadata": {},
   "outputs": [],
   "source": [
    "import pandas as pd\n",
    "import pyarrow.parquet as pq\n",
    "from minio import Minio\n",
    "import io\n",
    "import os\n",
    "from collections import defaultdict"
   ]
  },
  {
   "cell_type": "code",
   "execution_count": 2,
   "id": "a0debd3c",
   "metadata": {},
   "outputs": [],
   "source": [
    "minio_endpoint = os.getenv(\"MINIO_ENDPOINT\", \"localhost:9000\")\n",
    "minio_access_key = os.getenv(\"MINIO_ACCESS_KEY\", \"minio_access_key\")\n",
    "minio_secret_key = os.getenv(\"MINIO_SECRET_KEY\", \"minio_secret_key\")\n",
    "secure = os.getenv(\"MINIO_SECURE\", \"False\").lower() == \"true\"\n",
    "client = Minio(\n",
    "    endpoint=minio_endpoint,\n",
    "    access_key=minio_access_key,\n",
    "    secret_key=minio_secret_key,\n",
    "    secure=secure\n",
    ")"
   ]
  },
  {
   "cell_type": "code",
   "execution_count": null,
   "id": "15235325",
   "metadata": {},
   "outputs": [
    {
     "name": "stdout",
     "output_type": "stream",
     "text": [
      "Found 6 folders with Parquet files.\n"
     ]
    }
   ],
   "source": [
    "bucket_name = \"silver\" \n",
    "\n",
    "\n",
    "objects = client.list_objects(bucket_name, recursive=True)\n",
    "\n",
    "\n",
    "folder_files = defaultdict(list)\n",
    "\n",
    "for obj in objects:\n",
    "    if obj.object_name.endswith('.parquet'):\n",
    "        \n",
    "        folder_name = os.path.dirname(obj.object_name)\n",
    "        if folder_name:\n",
    "            folder_files[folder_name].append(obj.object_name)\n",
    "\n",
    "print(f\"Found {len(folder_files)} folders with Parquet files.\")"
   ]
  },
  {
   "cell_type": "code",
   "execution_count": null,
   "id": "beb1aee1",
   "metadata": {},
   "outputs": [
    {
     "name": "stdout",
     "output_type": "stream",
     "text": [
      "\n",
      "Processing folder: yellow_tripdata_2024-01\n",
      "Processed: yellow_tripdata_2024-01/part-00001-0074987a-f48b-41e9-a464-bbf4648c7ab8-c000.snappy.parquet\n",
      "Processed: yellow_tripdata_2024-01/part-00005-0074987a-f48b-41e9-a464-bbf4648c7ab8-c000.snappy.parquet\n",
      "Processed: yellow_tripdata_2024-01/part-00009-0074987a-f48b-41e9-a464-bbf4648c7ab8-c000.snappy.parquet\n",
      "Saved 2964624 rows to yellow_tripdata_2024-01.csv\n",
      "\n",
      "Processing folder: yellow_tripdata_2024-02\n",
      "Processed: yellow_tripdata_2024-02/part-00001-0d454169-579e-413a-b85a-aae2608dd1b1-c000.snappy.parquet\n",
      "Processed: yellow_tripdata_2024-02/part-00005-0d454169-579e-413a-b85a-aae2608dd1b1-c000.snappy.parquet\n",
      "Processed: yellow_tripdata_2024-02/part-00009-0d454169-579e-413a-b85a-aae2608dd1b1-c000.snappy.parquet\n",
      "Saved 3007526 rows to yellow_tripdata_2024-02.csv\n",
      "\n",
      "Processing folder: yellow_tripdata_2024-03\n",
      "Processed: yellow_tripdata_2024-03/part-00001-9e451f7d-c885-4f1c-b16b-1186a1e071a7-c000.snappy.parquet\n",
      "Processed: yellow_tripdata_2024-03/part-00004-9e451f7d-c885-4f1c-b16b-1186a1e071a7-c000.snappy.parquet\n",
      "Processed: yellow_tripdata_2024-03/part-00008-9e451f7d-c885-4f1c-b16b-1186a1e071a7-c000.snappy.parquet\n",
      "Processed: yellow_tripdata_2024-03/part-00010-9e451f7d-c885-4f1c-b16b-1186a1e071a7-c000.snappy.parquet\n",
      "Saved 3582628 rows to yellow_tripdata_2024-03.csv\n",
      "\n",
      "Processing folder: yellow_tripdata_2024-04\n",
      "Processed: yellow_tripdata_2024-04/part-00001-62edba42-4ead-4148-9dd6-4a804f74ee07-c000.snappy.parquet\n",
      "Processed: yellow_tripdata_2024-04/part-00004-62edba42-4ead-4148-9dd6-4a804f74ee07-c000.snappy.parquet\n",
      "Processed: yellow_tripdata_2024-04/part-00008-62edba42-4ead-4148-9dd6-4a804f74ee07-c000.snappy.parquet\n",
      "Processed: yellow_tripdata_2024-04/part-00010-62edba42-4ead-4148-9dd6-4a804f74ee07-c000.snappy.parquet\n",
      "Saved 3514289 rows to yellow_tripdata_2024-04.csv\n",
      "\n",
      "Processing folder: yellow_tripdata_2024-05\n",
      "Processed: yellow_tripdata_2024-05/part-00001-1242114b-5d42-490b-9eef-678816b19bf4-c000.snappy.parquet\n",
      "Processed: yellow_tripdata_2024-05/part-00004-1242114b-5d42-490b-9eef-678816b19bf4-c000.snappy.parquet\n",
      "Processed: yellow_tripdata_2024-05/part-00007-1242114b-5d42-490b-9eef-678816b19bf4-c000.snappy.parquet\n",
      "Processed: yellow_tripdata_2024-05/part-00010-1242114b-5d42-490b-9eef-678816b19bf4-c000.snappy.parquet\n",
      "Saved 3723833 rows to yellow_tripdata_2024-05.csv\n",
      "\n",
      "Processing folder: yellow_tripdata_2024-06\n",
      "Processed: yellow_tripdata_2024-06/part-00001-a015a7fa-c199-4212-8b4f-af0f2fd00da6-c000.snappy.parquet\n",
      "Processed: yellow_tripdata_2024-06/part-00004-a015a7fa-c199-4212-8b4f-af0f2fd00da6-c000.snappy.parquet\n",
      "Processed: yellow_tripdata_2024-06/part-00008-a015a7fa-c199-4212-8b4f-af0f2fd00da6-c000.snappy.parquet\n",
      "Processed: yellow_tripdata_2024-06/part-00010-a015a7fa-c199-4212-8b4f-af0f2fd00da6-c000.snappy.parquet\n",
      "Saved 3539193 rows to yellow_tripdata_2024-06.csv\n",
      "\n",
      "All folders processed successfully!\n"
     ]
    }
   ],
   "source": [
    "for folder, files in folder_files.items():\n",
    "    print(f\"\\nProcessing folder: {folder}\")\n",
    "    folder_data = pd.DataFrame()\n",
    "    \n",
    "    for parquet_file in files:\n",
    "        response = client.get_object(bucket_name, parquet_file)\n",
    "        data = response.read()\n",
    "        response.close()\n",
    "        \n",
    "        parquet_buffer = io.BytesIO(data)\n",
    "        df = pq.read_table(parquet_buffer).to_pandas()\n",
    "        \n",
    "        folder_data = pd.concat([folder_data, df], ignore_index=True)\n",
    "        print(f\"Processed: {parquet_file}\")\n",
    "    \n",
    "    csv_filename = f\"{folder.replace('/', '_')}.csv\"\n",
    "    \n",
    "    folder_data.to_csv(csv_filename, index=False)\n",
    "    print(f\"Saved {len(folder_data)} rows to {csv_filename}\")\n",
    "\n",
    "print(\"\\nAll folders processed successfully!\")"
   ]
  },
  {
   "cell_type": "code",
   "execution_count": null,
   "id": "3474a6ab",
   "metadata": {},
   "outputs": [],
   "source": []
  }
 ],
 "metadata": {
  "kernelspec": {
   "display_name": "bigdata",
   "language": "python",
   "name": "python3"
  },
  "language_info": {
   "codemirror_mode": {
    "name": "ipython",
    "version": 3
   },
   "file_extension": ".py",
   "mimetype": "text/x-python",
   "name": "python",
   "nbconvert_exporter": "python",
   "pygments_lexer": "ipython3",
   "version": "3.10.16"
  }
 },
 "nbformat": 4,
 "nbformat_minor": 5
}
